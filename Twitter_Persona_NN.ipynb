{
 "cells": [
  {
   "cell_type": "markdown",
   "metadata": {},
   "source": [
    "<center> \n",
    "    <h1> MBTI Personality Trait Classification using Twitter </h1>\n",
    "    <h4> <i> Author: Pavan Kumar K. N., Marina L. Gavrilova </i>  </h4>\n",
    " </center>\n"
   ]
  },
  {
   "cell_type": "code",
   "execution_count": 1,
   "metadata": {},
   "outputs": [],
   "source": [
    "#\n",
    "# * File:    classic_persona.py\n",
    "# *\n",
    "# * Author1:  Pavan Kumar K N (pavankumar.karkekopp@ucalgary.ca)\n",
    "# * Date:     20th May 2019\n",
    "# * Summary of File:\n",
    "# * Explore mbti_1.csv file acquired from https://www.kaggle.com/datasnaek/mbti-type\n",
    "# * Apply state-of-the-art reported publicly\n",
    "# * Build classifier model that is better using machine learning techniques\n",
    "\n",
    "#Just making sure the right environment is running this script\n",
    "import sys\n",
    "sys.executable\n"
   ]
  },
  {
   "cell_type": "code",
   "execution_count": 2,
   "metadata": {},
   "outputs": [
    {
     "name": "stderr",
     "output_type": "stream",
     "text": [
      "Using TensorFlow backend.\n"
     ]
    }
   ],
   "source": [
    "import numpy as np # linear algebra\n",
    "import pandas as pd # data processing, CSV file I/O (e.g. pd.read_csv)\n",
    "\n",
    "from sklearn.feature_extraction.text import CountVectorizer\n",
    "from sklearn.metrics import confusion_matrix, accuracy_score\n",
    "from sklearn.model_selection import train_test_split\n",
    "\n",
    "from keras.preprocessing.text import Tokenizer\n",
    "from keras.preprocessing.sequence import pad_sequences\n",
    "from keras.models import Sequential\n",
    "from keras.layers import *\n",
    "from keras.utils.np_utils import to_categorical\n",
    "from keras.initializers import Constant\n",
    "from keras import optimizers\n",
    "import re\n",
    "import os \n",
    "import nltk\n",
    "\n",
    "import matplotlib.pyplot as plt\n",
    "%matplotlib inline"
   ]
  },
  {
   "cell_type": "code",
   "execution_count": 3,
   "metadata": {},
   "outputs": [],
   "source": [
    "mbti_data = pd.read_csv('data/mbti_1.csv', delimiter=',')"
   ]
  },
  {
   "cell_type": "code",
   "execution_count": 4,
   "metadata": {},
   "outputs": [
    {
     "data": {
      "text/html": [
       "<div>\n",
       "<style scoped>\n",
       "    .dataframe tbody tr th:only-of-type {\n",
       "        vertical-align: middle;\n",
       "    }\n",
       "\n",
       "    .dataframe tbody tr th {\n",
       "        vertical-align: top;\n",
       "    }\n",
       "\n",
       "    .dataframe thead th {\n",
       "        text-align: right;\n",
       "    }\n",
       "</style>\n",
       "<table border=\"1\" class=\"dataframe\">\n",
       "  <thead>\n",
       "    <tr style=\"text-align: right;\">\n",
       "      <th></th>\n",
       "      <th>posts</th>\n",
       "      <th>type</th>\n",
       "    </tr>\n",
       "  </thead>\n",
       "  <tbody>\n",
       "    <tr>\n",
       "      <th>0</th>\n",
       "      <td>'http://www.youtube.com/watch?v=qsXHcwe3krw|||http://41.media.tumblr.com/tumblr_lfouy03PMA1qa1rooo1_500.jpg|||enfp and intj moments  https://www.youtube.com/watch?v=iz7lE1g4XM4  sportscenter not top ten plays  https://www.youtube.com/watch?v=uCdfze1etec  pranks|||What has been the most life-changing experience in your life?|||http://www.youtube.com/watch?v=vXZeYwwRDw8   http://www.youtube.com/watch?v=u8ejam5DP3E  On repeat for most of today.|||May the PerC Experience immerse you.|||The last thing my INFJ friend posted on his facebook before committing suicide the next day. Rest in peace~   http://vimeo.com/22842206|||Hello ENFJ7. Sorry to hear of your distress. It's only natural for a relationship to not be perfection all the time in every moment of existence. Try to figure the hard times as times of growth, as...|||84389  84390  http://wallpaperpassion.com/upload/23700/friendship-boy-and-girl-wallpaper.jpg  http://assets.dornob.com/wp-content/uploads/2010/04/round-home-design.jpg ...|||Welcome and stuff.|||http://playeressence.com/wp-content/uploads/2013/08/RED-red-the-pokemon-master-32560474-450-338.jpg  Game. Set. Match.|||Prozac, wellbrutin, at least thirty minutes of moving your legs (and I don't mean moving them while sitting in your same desk chair), weed in moderation (maybe try edibles as a healthier alternative...|||Basically come up with three items you've determined that each type (or whichever types you want to do) would more than likely use, given each types' cognitive functions and whatnot, when left by...|||All things in moderation.  Sims is indeed a video game, and a good one at that. Note: a good one at that is somewhat subjective in that I am not completely promoting the death of any given Sim...|||Dear ENFP:  What were your favorite video games growing up and what are your now, current favorite video games? :cool:|||https://www.youtube.com/watch?v=QyPqT8umzmY|||It appears to be too late. :sad:|||There's someone out there for everyone.|||Wait... I thought confidence was a good thing.|||I just cherish the time of solitude b/c i revel within my inner world more whereas most other time i'd be workin... just enjoy the me time while you can. Don't worry, people will always be around to...|||Yo entp ladies... if you're into a complimentary personality,well, hey.|||... when your main social outlet is xbox live conversations and even then you verbally fatigue quickly.|||http://www.youtube.com/watch?v=gDhy7rdfm14  I really dig the part from 1:46 to 2:50|||http://www.youtube.com/watch?v=msqXffgh7b8|||Banned because this thread requires it of me.|||Get high in backyard, roast and eat marshmellows in backyard while conversing over something intellectual, followed by massages and kisses.|||http://www.youtube.com/watch?v=Mw7eoU3BMbE|||http://www.youtube.com/watch?v=4V2uYORhQOk|||http://www.youtube.com/watch?v=SlVmgFQQ0TI|||Banned for too many b's in that sentence. How could you! Think of the B!|||Banned for watching movies in the corner with the dunces.|||Banned because Health class clearly taught you nothing about peer pressure.|||Banned for a whole host of reasons!|||http://www.youtube.com/watch?v=IRcrv41hgz4|||1) Two baby deer on left and right munching on a beetle in the middle.  2) Using their own blood, two cavemen diary today's latest happenings on their designated cave diary wall.  3) I see it as...|||a pokemon world  an infj society  everyone becomes an optimist|||49142|||http://www.youtube.com/watch?v=ZRCEq_JFeFM|||http://discovermagazine.com/2012/jul-aug/20-things-you-didnt-know-about-deserts/desert.jpg|||http://oyster.ignimgs.com/mediawiki/apis.ign.com/pokemon-silver-version/d/dd/Ditto.gif|||http://www.serebii.net/potw-dp/Scizor.jpg|||Not all artists are artists because they draw. It's the idea that counts in forming something of your own... like a signature.|||Welcome to the robot ranks, person who downed my self-esteem cuz I'm not an avid signature artist like herself. :proud:|||Banned for taking all the room under my bed. Ya gotta learn to share with the roaches.|||http://www.youtube.com/watch?v=w8IgImn57aQ|||Banned for being too much of a thundering, grumbling kind of storm... yep.|||Ahh... old high school music I haven't heard in ages.   http://www.youtube.com/watch?v=dcCRUPCdB1w|||I failed a public speaking class a few years ago and I've sort of learned what I could do better were I to be in that position again. A big part of my failure was just overloading myself with too...|||I like this person's mentality. He's a confirmed INTJ by the way. http://www.youtube.com/watch?v=hGKLI-GEc6M|||Move to the Denver area and start a new life for myself.'</td>\n",
       "      <td>INFJ</td>\n",
       "    </tr>\n",
       "    <tr>\n",
       "      <th>1</th>\n",
       "      <td>'I'm finding the lack of me in these posts very alarming.|||Sex can be boring if it's in the same position often. For example me and my girlfriend are currently in an environment where we have to creatively use cowgirl and missionary. There isn't enough...|||Giving new meaning to 'Game' theory.|||Hello *ENTP Grin*  That's all it takes. Than we converse and they do most of the flirting while I acknowledge their presence and return their words with smooth wordplay and more cheeky grins.|||This + Lack of Balance and Hand Eye Coordination.|||Real IQ test I score 127. Internet IQ tests are funny. I score 140s or higher.  Now, like the former responses of this thread I will mention that I don't believe in the IQ test. Before you banish...|||You know you're an ENTP when you vanish from a site for a year and a half, return, and find people are still commenting on your posts and liking your ideas/thoughts. You know you're an ENTP when you...|||http://img188.imageshack.us/img188/6422/6020d1f9da6944a6b71bbe6.jpg|||http://img.adultdvdtalk.com/813a0c6243814cab84c51|||I over think things sometimes. I go by the old Sherlock Holmes quote.  Perhaps, when a man has special knowledge and special powers like my  own, it rather encourages him to seek a complex...|||cheshirewolf.tumblr.com  So is I :D|||400,000+  post|||Not really; I've never thought of E/I or J/P as real functions.  I judge myself on what I use. I use Ne and Ti as my dominates. Fe for emotions and rarely Si. I also use Ni due to me strength...|||You know though. That was ingenious. After saying it I really want to try it and see what happens with me playing a first person shooter in the back while we drive around. I want to see the look on...|||out of all of them the rock paper one is the best. It makes me lol.  You guys are lucky :D I'm really high up on the tumblr system.|||So did you hear about that new first person shooter game? I've been rocking the hell out of the soundtrack on my auto sound equipment that will shake the heavens. We managed to put a couple PS3's in...|||No; The way he connected things was very Ne. Ne dominates are just as aware of their environments as Se dominates.  Example: Shawn Spencer or Patrick Jane; Both ENTPs.|||Well charlie I will be the first to admit I do get jealous like you do. I chalk it up to my 4w3 heart mixed with my dominate 7w8. 7s and 8s both like to be noticed. 4's like to be known (not the same...|||;D I'll upload the same clip with the mic away from my mouth. Than you won't hear anything.  Ninja Assassin style but with splatter.|||Tik Tok is a really great song. As long as you can mental block out the singer. I love the beat it makes me bounce.|||drop.io v1swck0  :D Mic really close to my mouth and smokin aces: assassins ball playing in the background.|||Sociable =/= extrovert; I'm an extrovert and I'm not sociable. :)|||Sherlock in the movie was an ENTP. Normally he's played as a EXTJ. In the books he's an ESTJ.  As I said. The movie looked good except for it being called sherlock holmes.|||http://i817.photobucket.com/albums/zz96/kamioo/Dirtywinch.png|||Oh, I never had fear of kissing a guy. I will kiss an animal too. So there was nothing to vanish. Just personal taste and me not liking it.  The guy I kissed didn't know me. It was one of those...|||Sounds pretty much like my area and what I'm going through right now trying to figure out which way I want to take my life. I want to do so many things. The biggest problem is that I know if I don't...|||;D I was operating under the impression that you were female. I never looked at your boxy. Okay, I help out my gay friends all the time and one of them has developed a little crush on me. I get red...|||T_T You just described me  and I'm living the worst nightmare. I'm trapped in one place with one one around. Only dull woods. If I was a serial killer this would be the perfect place but sadly I'm...|||TBH, and biased, sounds like a shadowed INFP. I think maybe he was hurt and turned ESTJ. I can tell because he has some of the typical INFP traits left over.|||*Checks list* I'm sorry. It seems that you have came at a bad time. We've already reached our quota of INFJs. However, being you're female and I like females I will make you a deal. I will kick one...|||I'm ANTP (Leaning toward E). I'm easy for both ENTPs and INTPs to identify with. :)|||I also imagine ENTP's interrogations would go a little bit like Jack's from 24 except more mechanical. Rigging up shock treatment equipment in an abandoned building out of an old car batty, jumper...|||It was a compliment :) Trust me. I'm just as psychopathic :D except I have emoticons. They're just weird ones. Like laughing when I get hurt or at people running themselves over with their lawn mower...|||http://i817.photobucket.com/albums/zz96/kamioo/Thunderstorm.pnghttp://i817.photobucket.com/albums/zz96/kamioo/Thunderstormbw.png http://i817.photobucket.com/albums/zz96/kamioo/Cosmicstorm.png|||No. It's like a theme for where I live and that is why I know it by heart.   http://www.youtube.com/watch?v=j5W73HaVQBg|||and I usual don't leave until the thing ends. But in the mean time. In between times. You work your thing. I'll work mine :D  ;D I'm the MBP; Pleasure to meet you.|||Damn, need to trust my instincts more I would have been closer I was going to say INFP.|||EXFP? Leaning toward S with the way she responded.  :D My friends, even my gay and lesbian ones, always come to me for advice.|||I bow to my entp masters ENTPs are so great. If it wasn't for ENTPs I wouldn't have been able to build what I'm building  Duck Duck  Duck  Shotgun|||What? Me? I never do that &gt;.&gt; &lt;.&lt;|||Because its hard to be sad about losing someone you like when you knew you were right and give yourself a big pat on the back because you're awesome and always correct.|||Oh, you don't have to tell me that most of them are stupid. I know this. That is why I play with them and it makes me laugh. :D As I'm going to take Neuropsychology and I have a few psychologist...|||:D I'm a Nightowl. I wake up between 6-7pm and stay awake till 10-11:30am.|||Personal opinion backed by theory would suggest that INTPs are the most socially difficult. While INTJs can be socially indifferent but they will also use social situations if the the need arises....|||Personal stocks that I have on my desktop that I've downloaded from random stock sites and stock photobuckets.|||I'll tell you when I open photoshop.  :) Glad you like it static.|||:D Thanks.|||http://i817.photobucket.com/albums/zz96/kamioo/Deathgrip.png http://i817.photobucket.com/albums/zz96/kamioo/Deathgripbw.png  Made for a friend. Several hours of work. I constructed every line by...|||:) Static: http://i817.photobucket.com/albums/zz96/kamioo/Statickitten.png  I'll have to get to your avatar later if one of my fellow teammates doesn't.|||Psychologist don't keep me around long enough to diagnosis me. I like to toy with them. What I have diagnosis myself with and had a few psychologist friends (+ a few other friends) tell me I have is...'</td>\n",
       "      <td>ENTP</td>\n",
       "    </tr>\n",
       "    <tr>\n",
       "      <th>2</th>\n",
       "      <td>'Good one  _____   https://www.youtube.com/watch?v=fHiGbolFFGw|||Of course, to which I say I know; that's my blessing and my curse.|||Does being absolutely positive that you and your best friend could be an amazing couple count? If so, than yes.   Or it's more I could be madly in love in case I reconciled my feelings (which at...|||No, I didn't; thank you for a link!|||So-called Ti-Si loop (and it can stem from any current topic/obsession) can be deadly. It's like when you're stuck in your own thoughts, and your mind just wanders in circles. Feels truly terrible. ...|||Have you noticed how peculiar vegetation can be? All you have to do is look down at the grass: dozens of different plant species there.    And now imagine that hundreds of years later (when/if soil...|||The Smiths – Never Had No One Ever|||I often find myself spotting faces on marble tiles/wood.|||This 5 year-old sentence is an incredibly accurate and beautiful description.|||I haven't visited this website in the last 3 years. So whoever reads this (and maybe even remembers me, which I highly doubt): hi.  700049  700057|||When you sit in your garden until 10:30 PM writing songs, and sing them (together with dozens of crickets) while playing your acoustic guitar.|||This is the most INTP-ish thread I've ever seen.|||I wouldn't be able to look at the painting for the entire life if I knew that I picked it over the human being.|||I was drawing a background for my animation on which I'm working right now - it should have been Mars.. But I felt obligated to make Mark Watneyx92s postcard from it :D  If you read the book...|||I started to make comics about turtle Gordon and unicorn Chimes - here you can see two first stories: https://www.tumblr.com/blog/-alexxxandra-|||INTJ Recently I started to post my comics about two friends - turtle Gordon and unicorn Chimes. Before that, I just posted stuff that interested me, but from now on I'll try to include only my works...|||Probably we could work together on a new model - I'm an expert in abrupt explosions of laughter upon various weird stuff. That happens because of peculiar sense of humor - so peculiar that not much...|||Hellooo Nah, you can touch it. Everyone thinks that it's scared or sad, but that's not true - in fact it has an absolutely neutral face. And this kitten actually really likes patting and hugs (only...|||Well.. kind of; As it was already mentioned, sometimes because of Ni it's hard to convey complex stuff which pops up in your head in whimsical compilations of shapes and pictures only with words....|||I think this kitten would be very appropriate here.  376562|||367034|||GOOD NIGHT everyone out there! Even if for someone there is morning right now - nights always supersede mornings.. And people say good night in order to meet next day :)|||Oh, that movie :) It's awesome Thank you! Hope you had good sleep in the air; anyway, I'm wishing you good night for the next night ahead! (hopefully it will be on land)  Good people deserve good...|||358882  358890|||Well, other people who may be wondering about an issue from the name of the topic will find your response helpful anyway :)|||This. Finally someone mentioned that :)|||I still see creatures/faces in a maze of various random patterns. It can be amusing sometimes.  It's a very handy skill when you're bored.|||Oh, I didn't know that.. What a pity.  Why not sacrifice whole supermarket, then? We can decide which Walmart will be the best (I think the biggest one would be great).|||yippy  Here you go  357002  He thinks that the fire is delicious. Should I sacrifice tofu? I don't like to waste food.|||I don't think that the creator of this thread cares what's going on here after 3 years :)|||Heh, I understand you :) With these same given languages)))|||Yessss, Adventure Time :D|||I get angry quite rarely, but when I do, it's safer for surrounding people to go somewhere else. It's impossible for me to hide or suppress anger; the only way to get rid of this feeling is to burst...|||I've never liked it  Anything fake is bad, actually.|||Hugs should be given only to chosen ones. Chosen. There are quite few of them, though.|||349890|||Yup, you're doing it right :)|||http://-alexxxandra-.tumblr.com/|||256818|||Of course it's not very comfortable.  But. Human race survived thankfully women's ability to give birth to other human beings. It worked for thousands of years. Why change it? Besides, there are...|||That happens. And it occurs because most often people use results of extremely precise and elaborate online tests as a basis of determining one's type.      Both visual and language arts (more...|||246386|||I study graphic design now, which I really enjoy. What is interesting about this field, is that the ability to generate ideas and solve problems is much more important than possession of a specific...|||Alexxxandra97 - DeviantArt|||236994|||http://www.youtube.com/watch?v=2Nkcn8m9M0M|||I am always ready to discipline (to intimidate, to be precise) my sibling's offender.|||World domination? Shooting people in the head? Why?  Oh, right, INTJs always must be characterised only with these words.     I want to show so badly my reaction to this: 221226|||218106|||ISTP?   http://www.youtube.com/watch?v=7ghqoYxmaUE'</td>\n",
       "      <td>INTP</td>\n",
       "    </tr>\n",
       "  </tbody>\n",
       "</table>\n",
       "</div>"
      ],
      "text/plain": [
       "                                                                                                                                                                                                                                                                                                                                                                                                                                                                                                                                                                                                                                                                                                                                                                                                                                                                                                                                                                                                                                                                                                                                                                                                                                                                                                                                                                                                                                                                                                                                                                                                                                                                                                                                                                                                                                                                                                                                                                                                                                                                                                                                                                                                                                                                                                                                                                                                                                                                                                                                                                                                                                                                                                                                                                                                                                                                                                                                                                                                                                                                                                                                                                                                                                                                                                                                                                                                                                                                                                                                                                                                                                                                                                                                                                                                                                                                                                                                                                                                                                                                                                                                                                                                                                                                                                                                                                                                                                                                                                                                                                                                                                                                                                                                                                                                                                                                                                                                                                                                                                                                                                                                                                                                                                                                                                                                                                                                                                                                                                                                                                                                                                                                                                                                                                                                                                                                                                                                                                                                                                                                                                                                                                                                                                                                                                                                                                                                                                                                                                                                                                                                                                                                                                                                                                                                                                                                                                                                                                                                                                                                                                                                                                                                                                                                                                                                           posts  \\\n",
       "0  'http://www.youtube.com/watch?v=qsXHcwe3krw|||http://41.media.tumblr.com/tumblr_lfouy03PMA1qa1rooo1_500.jpg|||enfp and intj moments  https://www.youtube.com/watch?v=iz7lE1g4XM4  sportscenter not top ten plays  https://www.youtube.com/watch?v=uCdfze1etec  pranks|||What has been the most life-changing experience in your life?|||http://www.youtube.com/watch?v=vXZeYwwRDw8   http://www.youtube.com/watch?v=u8ejam5DP3E  On repeat for most of today.|||May the PerC Experience immerse you.|||The last thing my INFJ friend posted on his facebook before committing suicide the next day. Rest in peace~   http://vimeo.com/22842206|||Hello ENFJ7. Sorry to hear of your distress. It's only natural for a relationship to not be perfection all the time in every moment of existence. Try to figure the hard times as times of growth, as...|||84389  84390  http://wallpaperpassion.com/upload/23700/friendship-boy-and-girl-wallpaper.jpg  http://assets.dornob.com/wp-content/uploads/2010/04/round-home-design.jpg ...|||Welcome and stuff.|||http://playeressence.com/wp-content/uploads/2013/08/RED-red-the-pokemon-master-32560474-450-338.jpg  Game. Set. Match.|||Prozac, wellbrutin, at least thirty minutes of moving your legs (and I don't mean moving them while sitting in your same desk chair), weed in moderation (maybe try edibles as a healthier alternative...|||Basically come up with three items you've determined that each type (or whichever types you want to do) would more than likely use, given each types' cognitive functions and whatnot, when left by...|||All things in moderation.  Sims is indeed a video game, and a good one at that. Note: a good one at that is somewhat subjective in that I am not completely promoting the death of any given Sim...|||Dear ENFP:  What were your favorite video games growing up and what are your now, current favorite video games? :cool:|||https://www.youtube.com/watch?v=QyPqT8umzmY|||It appears to be too late. :sad:|||There's someone out there for everyone.|||Wait... I thought confidence was a good thing.|||I just cherish the time of solitude b/c i revel within my inner world more whereas most other time i'd be workin... just enjoy the me time while you can. Don't worry, people will always be around to...|||Yo entp ladies... if you're into a complimentary personality,well, hey.|||... when your main social outlet is xbox live conversations and even then you verbally fatigue quickly.|||http://www.youtube.com/watch?v=gDhy7rdfm14  I really dig the part from 1:46 to 2:50|||http://www.youtube.com/watch?v=msqXffgh7b8|||Banned because this thread requires it of me.|||Get high in backyard, roast and eat marshmellows in backyard while conversing over something intellectual, followed by massages and kisses.|||http://www.youtube.com/watch?v=Mw7eoU3BMbE|||http://www.youtube.com/watch?v=4V2uYORhQOk|||http://www.youtube.com/watch?v=SlVmgFQQ0TI|||Banned for too many b's in that sentence. How could you! Think of the B!|||Banned for watching movies in the corner with the dunces.|||Banned because Health class clearly taught you nothing about peer pressure.|||Banned for a whole host of reasons!|||http://www.youtube.com/watch?v=IRcrv41hgz4|||1) Two baby deer on left and right munching on a beetle in the middle.  2) Using their own blood, two cavemen diary today's latest happenings on their designated cave diary wall.  3) I see it as...|||a pokemon world  an infj society  everyone becomes an optimist|||49142|||http://www.youtube.com/watch?v=ZRCEq_JFeFM|||http://discovermagazine.com/2012/jul-aug/20-things-you-didnt-know-about-deserts/desert.jpg|||http://oyster.ignimgs.com/mediawiki/apis.ign.com/pokemon-silver-version/d/dd/Ditto.gif|||http://www.serebii.net/potw-dp/Scizor.jpg|||Not all artists are artists because they draw. It's the idea that counts in forming something of your own... like a signature.|||Welcome to the robot ranks, person who downed my self-esteem cuz I'm not an avid signature artist like herself. :proud:|||Banned for taking all the room under my bed. Ya gotta learn to share with the roaches.|||http://www.youtube.com/watch?v=w8IgImn57aQ|||Banned for being too much of a thundering, grumbling kind of storm... yep.|||Ahh... old high school music I haven't heard in ages.   http://www.youtube.com/watch?v=dcCRUPCdB1w|||I failed a public speaking class a few years ago and I've sort of learned what I could do better were I to be in that position again. A big part of my failure was just overloading myself with too...|||I like this person's mentality. He's a confirmed INTJ by the way. http://www.youtube.com/watch?v=hGKLI-GEc6M|||Move to the Denver area and start a new life for myself.'                                                                                                                                                                                                                                                                                                                                                                                                                                                                                                                                                                                                                                                                                                                                                                                                                                                                                                                                                                                                                                                                                                                                                                                                                                                                                                                                                                                                                                                                                                                                                                                                                                                                                                                                                                                                                                                                                                                                                                                                                                                                                                                                                                                                                                                                                                                                                                                                                                                                                                    \n",
       "1  'I'm finding the lack of me in these posts very alarming.|||Sex can be boring if it's in the same position often. For example me and my girlfriend are currently in an environment where we have to creatively use cowgirl and missionary. There isn't enough...|||Giving new meaning to 'Game' theory.|||Hello *ENTP Grin*  That's all it takes. Than we converse and they do most of the flirting while I acknowledge their presence and return their words with smooth wordplay and more cheeky grins.|||This + Lack of Balance and Hand Eye Coordination.|||Real IQ test I score 127. Internet IQ tests are funny. I score 140s or higher.  Now, like the former responses of this thread I will mention that I don't believe in the IQ test. Before you banish...|||You know you're an ENTP when you vanish from a site for a year and a half, return, and find people are still commenting on your posts and liking your ideas/thoughts. You know you're an ENTP when you...|||http://img188.imageshack.us/img188/6422/6020d1f9da6944a6b71bbe6.jpg|||http://img.adultdvdtalk.com/813a0c6243814cab84c51|||I over think things sometimes. I go by the old Sherlock Holmes quote.  Perhaps, when a man has special knowledge and special powers like my  own, it rather encourages him to seek a complex...|||cheshirewolf.tumblr.com  So is I :D|||400,000+  post|||Not really; I've never thought of E/I or J/P as real functions.  I judge myself on what I use. I use Ne and Ti as my dominates. Fe for emotions and rarely Si. I also use Ni due to me strength...|||You know though. That was ingenious. After saying it I really want to try it and see what happens with me playing a first person shooter in the back while we drive around. I want to see the look on...|||out of all of them the rock paper one is the best. It makes me lol.  You guys are lucky :D I'm really high up on the tumblr system.|||So did you hear about that new first person shooter game? I've been rocking the hell out of the soundtrack on my auto sound equipment that will shake the heavens. We managed to put a couple PS3's in...|||No; The way he connected things was very Ne. Ne dominates are just as aware of their environments as Se dominates.  Example: Shawn Spencer or Patrick Jane; Both ENTPs.|||Well charlie I will be the first to admit I do get jealous like you do. I chalk it up to my 4w3 heart mixed with my dominate 7w8. 7s and 8s both like to be noticed. 4's like to be known (not the same...|||;D I'll upload the same clip with the mic away from my mouth. Than you won't hear anything.  Ninja Assassin style but with splatter.|||Tik Tok is a really great song. As long as you can mental block out the singer. I love the beat it makes me bounce.|||drop.io v1swck0  :D Mic really close to my mouth and smokin aces: assassins ball playing in the background.|||Sociable =/= extrovert; I'm an extrovert and I'm not sociable. :)|||Sherlock in the movie was an ENTP. Normally he's played as a EXTJ. In the books he's an ESTJ.  As I said. The movie looked good except for it being called sherlock holmes.|||http://i817.photobucket.com/albums/zz96/kamioo/Dirtywinch.png|||Oh, I never had fear of kissing a guy. I will kiss an animal too. So there was nothing to vanish. Just personal taste and me not liking it.  The guy I kissed didn't know me. It was one of those...|||Sounds pretty much like my area and what I'm going through right now trying to figure out which way I want to take my life. I want to do so many things. The biggest problem is that I know if I don't...|||;D I was operating under the impression that you were female. I never looked at your boxy. Okay, I help out my gay friends all the time and one of them has developed a little crush on me. I get red...|||T_T You just described me  and I'm living the worst nightmare. I'm trapped in one place with one one around. Only dull woods. If I was a serial killer this would be the perfect place but sadly I'm...|||TBH, and biased, sounds like a shadowed INFP. I think maybe he was hurt and turned ESTJ. I can tell because he has some of the typical INFP traits left over.|||*Checks list* I'm sorry. It seems that you have came at a bad time. We've already reached our quota of INFJs. However, being you're female and I like females I will make you a deal. I will kick one...|||I'm ANTP (Leaning toward E). I'm easy for both ENTPs and INTPs to identify with. :)|||I also imagine ENTP's interrogations would go a little bit like Jack's from 24 except more mechanical. Rigging up shock treatment equipment in an abandoned building out of an old car batty, jumper...|||It was a compliment :) Trust me. I'm just as psychopathic :D except I have emoticons. They're just weird ones. Like laughing when I get hurt or at people running themselves over with their lawn mower...|||http://i817.photobucket.com/albums/zz96/kamioo/Thunderstorm.pnghttp://i817.photobucket.com/albums/zz96/kamioo/Thunderstormbw.png http://i817.photobucket.com/albums/zz96/kamioo/Cosmicstorm.png|||No. It's like a theme for where I live and that is why I know it by heart.   http://www.youtube.com/watch?v=j5W73HaVQBg|||and I usual don't leave until the thing ends. But in the mean time. In between times. You work your thing. I'll work mine :D  ;D I'm the MBP; Pleasure to meet you.|||Damn, need to trust my instincts more I would have been closer I was going to say INFP.|||EXFP? Leaning toward S with the way she responded.  :D My friends, even my gay and lesbian ones, always come to me for advice.|||I bow to my entp masters ENTPs are so great. If it wasn't for ENTPs I wouldn't have been able to build what I'm building  Duck Duck  Duck  Shotgun|||What? Me? I never do that >.> <.<|||Because its hard to be sad about losing someone you like when you knew you were right and give yourself a big pat on the back because you're awesome and always correct.|||Oh, you don't have to tell me that most of them are stupid. I know this. That is why I play with them and it makes me laugh. :D As I'm going to take Neuropsychology and I have a few psychologist...|||:D I'm a Nightowl. I wake up between 6-7pm and stay awake till 10-11:30am.|||Personal opinion backed by theory would suggest that INTPs are the most socially difficult. While INTJs can be socially indifferent but they will also use social situations if the the need arises....|||Personal stocks that I have on my desktop that I've downloaded from random stock sites and stock photobuckets.|||I'll tell you when I open photoshop.  :) Glad you like it static.|||:D Thanks.|||http://i817.photobucket.com/albums/zz96/kamioo/Deathgrip.png http://i817.photobucket.com/albums/zz96/kamioo/Deathgripbw.png  Made for a friend. Several hours of work. I constructed every line by...|||:) Static: http://i817.photobucket.com/albums/zz96/kamioo/Statickitten.png  I'll have to get to your avatar later if one of my fellow teammates doesn't.|||Psychologist don't keep me around long enough to diagnosis me. I like to toy with them. What I have diagnosis myself with and had a few psychologist friends (+ a few other friends) tell me I have is...'   \n",
       "2  'Good one  _____   https://www.youtube.com/watch?v=fHiGbolFFGw|||Of course, to which I say I know; that's my blessing and my curse.|||Does being absolutely positive that you and your best friend could be an amazing couple count? If so, than yes.   Or it's more I could be madly in love in case I reconciled my feelings (which at...|||No, I didn't; thank you for a link!|||So-called Ti-Si loop (and it can stem from any current topic/obsession) can be deadly. It's like when you're stuck in your own thoughts, and your mind just wanders in circles. Feels truly terrible. ...|||Have you noticed how peculiar vegetation can be? All you have to do is look down at the grass: dozens of different plant species there.    And now imagine that hundreds of years later (when/if soil...|||The Smiths – Never Had No One Ever|||I often find myself spotting faces on marble tiles/wood.|||This 5 year-old sentence is an incredibly accurate and beautiful description.|||I haven't visited this website in the last 3 years. So whoever reads this (and maybe even remembers me, which I highly doubt): hi.  700049  700057|||When you sit in your garden until 10:30 PM writing songs, and sing them (together with dozens of crickets) while playing your acoustic guitar.|||This is the most INTP-ish thread I've ever seen.|||I wouldn't be able to look at the painting for the entire life if I knew that I picked it over the human being.|||I was drawing a background for my animation on which I'm working right now - it should have been Mars.. But I felt obligated to make Mark Watneyx92s postcard from it :D  If you read the book...|||I started to make comics about turtle Gordon and unicorn Chimes - here you can see two first stories: https://www.tumblr.com/blog/-alexxxandra-|||INTJ Recently I started to post my comics about two friends - turtle Gordon and unicorn Chimes. Before that, I just posted stuff that interested me, but from now on I'll try to include only my works...|||Probably we could work together on a new model - I'm an expert in abrupt explosions of laughter upon various weird stuff. That happens because of peculiar sense of humor - so peculiar that not much...|||Hellooo Nah, you can touch it. Everyone thinks that it's scared or sad, but that's not true - in fact it has an absolutely neutral face. And this kitten actually really likes patting and hugs (only...|||Well.. kind of; As it was already mentioned, sometimes because of Ni it's hard to convey complex stuff which pops up in your head in whimsical compilations of shapes and pictures only with words....|||I think this kitten would be very appropriate here.  376562|||367034|||GOOD NIGHT everyone out there! Even if for someone there is morning right now - nights always supersede mornings.. And people say good night in order to meet next day :)|||Oh, that movie :) It's awesome Thank you! Hope you had good sleep in the air; anyway, I'm wishing you good night for the next night ahead! (hopefully it will be on land)  Good people deserve good...|||358882  358890|||Well, other people who may be wondering about an issue from the name of the topic will find your response helpful anyway :)|||This. Finally someone mentioned that :)|||I still see creatures/faces in a maze of various random patterns. It can be amusing sometimes.  It's a very handy skill when you're bored.|||Oh, I didn't know that.. What a pity.  Why not sacrifice whole supermarket, then? We can decide which Walmart will be the best (I think the biggest one would be great).|||yippy  Here you go  357002  He thinks that the fire is delicious. Should I sacrifice tofu? I don't like to waste food.|||I don't think that the creator of this thread cares what's going on here after 3 years :)|||Heh, I understand you :) With these same given languages)))|||Yessss, Adventure Time :D|||I get angry quite rarely, but when I do, it's safer for surrounding people to go somewhere else. It's impossible for me to hide or suppress anger; the only way to get rid of this feeling is to burst...|||I've never liked it  Anything fake is bad, actually.|||Hugs should be given only to chosen ones. Chosen. There are quite few of them, though.|||349890|||Yup, you're doing it right :)|||http://-alexxxandra-.tumblr.com/|||256818|||Of course it's not very comfortable.  But. Human race survived thankfully women's ability to give birth to other human beings. It worked for thousands of years. Why change it? Besides, there are...|||That happens. And it occurs because most often people use results of extremely precise and elaborate online tests as a basis of determining one's type.      Both visual and language arts (more...|||246386|||I study graphic design now, which I really enjoy. What is interesting about this field, is that the ability to generate ideas and solve problems is much more important than possession of a specific...|||Alexxxandra97 - DeviantArt|||236994|||http://www.youtube.com/watch?v=2Nkcn8m9M0M|||I am always ready to discipline (to intimidate, to be precise) my sibling's offender.|||World domination? Shooting people in the head? Why?  Oh, right, INTJs always must be characterised only with these words.     I want to show so badly my reaction to this: 221226|||218106|||ISTP?   http://www.youtube.com/watch?v=7ghqoYxmaUE'                                                                                                                                                                                                                                                                                                                                                                                                                                                                                                                                                                                                                                                                                                                                                                                                                                                                                                                                                                                                                                                                                                                                                                                                                                                                                                                                                                                                                                                                                                                                                                                                                                                                                                                                                                                                                                                               \n",
       "\n",
       "   type  \n",
       "0  INFJ  \n",
       "1  ENTP  \n",
       "2  INTP  "
      ]
     },
     "execution_count": 4,
     "metadata": {},
     "output_type": "execute_result"
    }
   ],
   "source": [
    "mbti_data = mbti_data[['posts', 'type']]\n",
    "\n",
    "pd.set_option('display.max_colwidth', -1)\n",
    "mbti_data.head(3)"
   ]
  },
  {
   "cell_type": "code",
   "execution_count": 5,
   "metadata": {},
   "outputs": [],
   "source": [
    "raw_posts = mbti_data.posts.values"
   ]
  },
  {
   "cell_type": "code",
   "execution_count": 6,
   "metadata": {},
   "outputs": [],
   "source": [
    "filtered_posts = [p.split(\"|||\") for p in raw_posts]"
   ]
  },
  {
   "cell_type": "code",
   "execution_count": 7,
   "metadata": {},
   "outputs": [
    {
     "data": {
      "text/plain": [
       "[\"'http://www.youtube.com/watch?v=qsXHcwe3krw\",\n",
       " 'http://41.media.tumblr.com/tumblr_lfouy03PMA1qa1rooo1_500.jpg',\n",
       " 'enfp and intj moments  https://www.youtube.com/watch?v=iz7lE1g4XM4  sportscenter not top ten plays  https://www.youtube.com/watch?v=uCdfze1etec  pranks',\n",
       " 'What has been the most life-changing experience in your life?',\n",
       " 'http://www.youtube.com/watch?v=vXZeYwwRDw8   http://www.youtube.com/watch?v=u8ejam5DP3E  On repeat for most of today.',\n",
       " 'May the PerC Experience immerse you.',\n",
       " 'The last thing my INFJ friend posted on his facebook before committing suicide the next day. Rest in peace~   http://vimeo.com/22842206',\n",
       " \"Hello ENFJ7. Sorry to hear of your distress. It's only natural for a relationship to not be perfection all the time in every moment of existence. Try to figure the hard times as times of growth, as...\",\n",
       " '84389  84390  http://wallpaperpassion.com/upload/23700/friendship-boy-and-girl-wallpaper.jpg  http://assets.dornob.com/wp-content/uploads/2010/04/round-home-design.jpg ...',\n",
       " 'Welcome and stuff.',\n",
       " 'http://playeressence.com/wp-content/uploads/2013/08/RED-red-the-pokemon-master-32560474-450-338.jpg  Game. Set. Match.',\n",
       " \"Prozac, wellbrutin, at least thirty minutes of moving your legs (and I don't mean moving them while sitting in your same desk chair), weed in moderation (maybe try edibles as a healthier alternative...\",\n",
       " \"Basically come up with three items you've determined that each type (or whichever types you want to do) would more than likely use, given each types' cognitive functions and whatnot, when left by...\",\n",
       " 'All things in moderation.  Sims is indeed a video game, and a good one at that. Note: a good one at that is somewhat subjective in that I am not completely promoting the death of any given Sim...',\n",
       " 'Dear ENFP:  What were your favorite video games growing up and what are your now, current favorite video games? :cool:',\n",
       " 'https://www.youtube.com/watch?v=QyPqT8umzmY',\n",
       " 'It appears to be too late. :sad:',\n",
       " \"There's someone out there for everyone.\",\n",
       " 'Wait... I thought confidence was a good thing.',\n",
       " \"I just cherish the time of solitude b/c i revel within my inner world more whereas most other time i'd be workin... just enjoy the me time while you can. Don't worry, people will always be around to...\",\n",
       " \"Yo entp ladies... if you're into a complimentary personality,well, hey.\",\n",
       " '... when your main social outlet is xbox live conversations and even then you verbally fatigue quickly.',\n",
       " 'http://www.youtube.com/watch?v=gDhy7rdfm14  I really dig the part from 1:46 to 2:50',\n",
       " 'http://www.youtube.com/watch?v=msqXffgh7b8',\n",
       " 'Banned because this thread requires it of me.',\n",
       " 'Get high in backyard, roast and eat marshmellows in backyard while conversing over something intellectual, followed by massages and kisses.',\n",
       " 'http://www.youtube.com/watch?v=Mw7eoU3BMbE',\n",
       " 'http://www.youtube.com/watch?v=4V2uYORhQOk',\n",
       " 'http://www.youtube.com/watch?v=SlVmgFQQ0TI',\n",
       " \"Banned for too many b's in that sentence. How could you! Think of the B!\",\n",
       " 'Banned for watching movies in the corner with the dunces.',\n",
       " 'Banned because Health class clearly taught you nothing about peer pressure.',\n",
       " 'Banned for a whole host of reasons!',\n",
       " 'http://www.youtube.com/watch?v=IRcrv41hgz4',\n",
       " \"1) Two baby deer on left and right munching on a beetle in the middle.  2) Using their own blood, two cavemen diary today's latest happenings on their designated cave diary wall.  3) I see it as...\",\n",
       " 'a pokemon world  an infj society  everyone becomes an optimist',\n",
       " '49142',\n",
       " 'http://www.youtube.com/watch?v=ZRCEq_JFeFM',\n",
       " 'http://discovermagazine.com/2012/jul-aug/20-things-you-didnt-know-about-deserts/desert.jpg',\n",
       " 'http://oyster.ignimgs.com/mediawiki/apis.ign.com/pokemon-silver-version/d/dd/Ditto.gif',\n",
       " 'http://www.serebii.net/potw-dp/Scizor.jpg',\n",
       " \"Not all artists are artists because they draw. It's the idea that counts in forming something of your own... like a signature.\",\n",
       " \"Welcome to the robot ranks, person who downed my self-esteem cuz I'm not an avid signature artist like herself. :proud:\",\n",
       " 'Banned for taking all the room under my bed. Ya gotta learn to share with the roaches.',\n",
       " 'http://www.youtube.com/watch?v=w8IgImn57aQ',\n",
       " 'Banned for being too much of a thundering, grumbling kind of storm... yep.',\n",
       " \"Ahh... old high school music I haven't heard in ages.   http://www.youtube.com/watch?v=dcCRUPCdB1w\",\n",
       " \"I failed a public speaking class a few years ago and I've sort of learned what I could do better were I to be in that position again. A big part of my failure was just overloading myself with too...\",\n",
       " \"I like this person's mentality. He's a confirmed INTJ by the way. http://www.youtube.com/watch?v=hGKLI-GEc6M\",\n",
       " \"Move to the Denver area and start a new life for myself.'\"]"
      ]
     },
     "execution_count": 7,
     "metadata": {},
     "output_type": "execute_result"
    }
   ],
   "source": [
    "filtered_posts[0]"
   ]
  },
  {
   "cell_type": "code",
   "execution_count": 8,
   "metadata": {},
   "outputs": [],
   "source": [
    "#Function to binarize the types into simple lists instead of pandas.series\n",
    "personality_binary = {'I':1, 'E':0, 'N':1,'S':0, 'T':1, 'F':0, 'J':1, 'P': 0}\n",
    "binary_personality = [{1:'I', 0:'E'}, \n",
    "                      {1:'N', 0:'S'},\n",
    "                      {1:'T', 0:'F'},\n",
    "                      {1:'J', 0:'P'}]\n",
    "\n",
    "def translate_personality(personality):\n",
    "    # transform mbti to binary vector\n",
    "    binary = [personality_binary[l] for l in personality]\n",
    "#     print(\"{} returned {}\".format(personality, binary))\n",
    "    return binary\n",
    "\n",
    "\n",
    "def translate_binary(personality):\n",
    "    # transform binary vector to mbti personality\n",
    "    s = \"\"\n",
    "    for i, l in enumerate(personality):\n",
    "        s += binary_personality[i][l]\n",
    "#     print(\"{} returned {}\".format(personality, s))\n",
    "    return s"
   ]
  },
  {
   "cell_type": "code",
   "execution_count": 9,
   "metadata": {},
   "outputs": [
    {
     "name": "stdout",
     "output_type": "stream",
     "text": [
      "Binarize MBTI list: \n",
      "[[1 1 0 1]\n",
      " [0 1 1 0]\n",
      " [1 1 1 0]\n",
      " ...\n",
      " [1 1 1 0]\n",
      " [1 1 0 0]\n",
      " [1 1 0 0]]\n"
     ]
    }
   ],
   "source": [
    "list_personality_bin = np.array([translate_personality(p) for p in mbti_data.type])\n",
    "print(\"Binarize MBTI list: \\n%s\" % list_personality_bin)"
   ]
  },
  {
   "cell_type": "code",
   "execution_count": 10,
   "metadata": {},
   "outputs": [],
   "source": [
    "#List of strings to remove from the corpus\n",
    "unique_type_list = ['INFJ', \n",
    "                    'ENTP', \n",
    "                    'INTP', \n",
    "                    'INTJ', \n",
    "                    'ENTJ', \n",
    "                    'ENFJ', \n",
    "                    'INFP', \n",
    "                    'ENFP',\n",
    "                    'ISFP', \n",
    "                    'ISTP', \n",
    "                    'ISFJ', \n",
    "                    'ISTJ', \n",
    "                    'ESTP', \n",
    "                    'ESFP', \n",
    "                    'ESTJ', \n",
    "                    'ESFJ']\n",
    "\n",
    "unique_type_list = [x.lower() for x in unique_type_list]\n",
    "\n",
    "# Initialize for Lemmatization\n",
    "stemmer = nltk.PorterStemmer()\n",
    "lemmatiser = nltk.WordNetLemmatizer()\n",
    "\n",
    "def pre_process_data(data, remove_stop_words = False, remove_mbti_profiles = True):\n",
    "    list_personality = []\n",
    "    list_posts = []\n",
    "    len_data = len(data)\n",
    "    i=0\n",
    "    \n",
    "    for row in data.iterrows():\n",
    "        i+=1\n",
    "        if (i % 500 == 0 or i == 1 or i == len_data):\n",
    "            print(\"%s of %s rows\" % (i, len_data))\n",
    "\n",
    "        ##### Remove and clean comments\n",
    "        posts = row[1].posts\n",
    "        temp = re.sub('http[s]?://(?:[a-zA-Z]|[0-9]|[$-_@.&+]|(?:%[0-9a-fA-F][0-9a-fA-F]))+', ' ', posts)\n",
    "#         temp = re.sub(\"[^a-zA-Z]\", \" \", temp)\n",
    "        temp = re.sub(' +', ' ', temp).lower()\n",
    "        if remove_stop_words:\n",
    "            temp = \" \".join([lemmatiser.lemmatize(w) for w in temp.split(' ') if w not in stopwords.words(\"english\")])\n",
    "#         else:\n",
    "#             temp = \" \".join([lemmatiser.lemmatize(w) for w in temp.split(' ')])\n",
    "            \n",
    "        if remove_mbti_profiles:\n",
    "            for t in unique_type_list:\n",
    "                temp = temp.replace(t,\"\")\n",
    "\n",
    "        word_count = len(temp.split(' '))\n",
    "        \n",
    "        #Filter for minimum 50 words and max 2000 words\n",
    "        if(word_count>50 and word_count<2000):\n",
    "            type_labelized = translate_personality(row[1].type)\n",
    "            list_personality.append(type_labelized)\n",
    "            list_posts.append(temp)\n",
    "\n",
    "    list_posts = np.array(list_posts)\n",
    "    list_personality = np.array(list_personality)\n",
    "    return list_posts, list_personality"
   ]
  },
  {
   "cell_type": "code",
   "execution_count": 11,
   "metadata": {
    "scrolled": true
   },
   "outputs": [
    {
     "name": "stdout",
     "output_type": "stream",
     "text": [
      "1 of 8675 rows\n",
      "500 of 8675 rows\n",
      "1000 of 8675 rows\n",
      "1500 of 8675 rows\n",
      "2000 of 8675 rows\n",
      "2500 of 8675 rows\n",
      "3000 of 8675 rows\n",
      "3500 of 8675 rows\n",
      "4000 of 8675 rows\n",
      "4500 of 8675 rows\n",
      "5000 of 8675 rows\n",
      "5500 of 8675 rows\n",
      "6000 of 8675 rows\n",
      "6500 of 8675 rows\n",
      "7000 of 8675 rows\n",
      "7500 of 8675 rows\n",
      "8000 of 8675 rows\n",
      "8500 of 8675 rows\n",
      "8675 of 8675 rows\n"
     ]
    }
   ],
   "source": [
    "list_posts, list_personality  = pre_process_data(mbti_data, remove_stop_words=False)"
   ]
  },
  {
   "cell_type": "code",
   "execution_count": 12,
   "metadata": {},
   "outputs": [],
   "source": [
    "word_counts = [len(str(x).split(' ')) for x in list_posts]"
   ]
  },
  {
   "cell_type": "code",
   "execution_count": 13,
   "metadata": {},
   "outputs": [],
   "source": [
    "sequence_length = max(word_counts)"
   ]
  },
  {
   "cell_type": "code",
   "execution_count": 14,
   "metadata": {},
   "outputs": [],
   "source": [
    "max_features = 20000\n",
    "tokenizer = Tokenizer(num_words=max_features, split=' ', oov_token='<unw>', filters=' ')\n",
    "tokenizer.fit_on_texts(list_posts)"
   ]
  },
  {
   "cell_type": "code",
   "execution_count": 15,
   "metadata": {},
   "outputs": [],
   "source": [
    "# this takes our sentences and replaces each word with an integer\n",
    "X = tokenizer.texts_to_sequences(list_posts)\n",
    "X = pad_sequences(X, sequence_length)\n",
    "y = list_personality\n",
    "X_train = X\n",
    "y_train = y\n",
    "# X_train, X_test, y_train, y_test = train_test_split(X, y, test_size=0.1)\n",
    "# print(\"test set size \" + str(len(X_test)))"
   ]
  },
  {
   "cell_type": "code",
   "execution_count": 16,
   "metadata": {},
   "outputs": [
    {
     "data": {
      "text/plain": [
       "array([[    0,     0,     0, ...,   135,    15,     1],\n",
       "       [    0,     0,     0, ...,     2,    16,  9410],\n",
       "       [    0,     0,     0, ...,     3,  1207,     1],\n",
       "       ...,\n",
       "       [    0,     0,     0, ...,     1,   432,     1],\n",
       "       [    0,     0,     0, ...,    16,  1362,     1],\n",
       "       [    0,     0,     0, ...,    86,    15, 14568]])"
      ]
     },
     "execution_count": 16,
     "metadata": {},
     "output_type": "execute_result"
    }
   ],
   "source": [
    "X"
   ]
  },
  {
   "cell_type": "code",
   "execution_count": 17,
   "metadata": {},
   "outputs": [
    {
     "name": "stdout",
     "output_type": "stream",
     "text": [
      "Found 1193514 word vectors.\n"
     ]
    }
   ],
   "source": [
    "embeddings_index = {}\n",
    "f = open(os.path.join('data/glove.twitter.27B/', 'glove.twitter.27B.100d.txt'), encoding=\"utf-8\")\n",
    "for line in f:\n",
    "    values = line.split()\n",
    "    word = values[0]\n",
    "    coefs = np.asarray(values[1:], dtype='float32')\n",
    "    embeddings_index[word] = coefs\n",
    "f.close()\n",
    "\n",
    "print('Found %s word vectors.' % len(embeddings_index))"
   ]
  },
  {
   "cell_type": "code",
   "execution_count": 18,
   "metadata": {},
   "outputs": [
    {
     "name": "stdout",
     "output_type": "stream",
     "text": [
      "Found 526155 unique tokens.\n"
     ]
    }
   ],
   "source": [
    "word_index = tokenizer.word_index\n",
    "print('Found %s unique tokens.' % len(word_index))"
   ]
  },
  {
   "cell_type": "code",
   "execution_count": 19,
   "metadata": {},
   "outputs": [
    {
     "name": "stdout",
     "output_type": "stream",
     "text": [
      "20001\n"
     ]
    }
   ],
   "source": [
    "num_words = min(max_features, len(word_index)) + 1\n",
    "print(num_words)\n",
    "\n",
    "embedding_dim = 100\n",
    "not_exist_count = 0\n",
    "# first create a matrix of zeros, this is our embedding matrix\n",
    "embedding_matrix = np.zeros((num_words, embedding_dim))\n",
    "\n",
    "# for each word in out tokenizer lets try to find that work in our w2v model\n",
    "for word, i in word_index.items():\n",
    "    if i > max_features:\n",
    "        continue\n",
    "    embedding_vector = embeddings_index.get(word)\n",
    "    if embedding_vector is not None:\n",
    "        # we found the word - add that words vector to the matrix\n",
    "        embedding_matrix[i] = embedding_vector\n",
    "#     else:\n",
    "#         # doesn't exist, assign a random vector\n",
    "#         embedding_matrix[i] = np.random.randn(embedding_dim)\n",
    "#         not_exist_count+= 1\n",
    "# print(not_exist_count)"
   ]
  },
  {
   "cell_type": "code",
   "execution_count": 20,
   "metadata": {
    "scrolled": true
   },
   "outputs": [],
   "source": [
    "# #Stacked LSTMs\n",
    "# model = Sequential()\n",
    "# model.add(Embedding(num_words,\n",
    "#                     embedding_dim,\n",
    "#                     embeddings_initializer=Constant(embedding_matrix),\n",
    "#                     input_length=sequence_length,\n",
    "#                     trainable=True))\n",
    "\n",
    "# model.add(Bidirectional(CuDNNLSTM(128, return_sequences=True)))\n",
    "# model.add(Dropout(0.2))\n",
    "# model.add(Bidirectional(CuDNNLSTM(128, return_sequences=True)))\n",
    "# model.add(Dropout(0.2))\n",
    "# model.add(Bidirectional(CuDNNLSTM(128, return_sequences=True)))\n",
    "# model.add(Dropout(0.2))\n",
    "# model.add(Bidirectional(CuDNNLSTM(128, return_sequences=False)))\n",
    "# model.add(Dropout(0.2))\n",
    "# # model.add(Flatten())\n",
    "# model.add(Dense(units=4, activation='softmax'))\n",
    "# sgd= optimizers.SGD(lr=0.001, decay=1e-6, momentum=0.9, nesterov=True)\n",
    "# model.compile(loss = 'categorical_crossentropy', optimizer=sgd, metrics = ['accuracy'])\n",
    "# print(model.summary())"
   ]
  },
  {
   "cell_type": "code",
   "execution_count": 21,
   "metadata": {},
   "outputs": [
    {
     "name": "stdout",
     "output_type": "stream",
     "text": [
      "WARNING:tensorflow:From C:\\ProgramData\\Anaconda3\\lib\\site-packages\\tensorflow\\python\\framework\\op_def_library.py:263: colocate_with (from tensorflow.python.framework.ops) is deprecated and will be removed in a future version.\n",
      "Instructions for updating:\n",
      "Colocations handled automatically by placer.\n",
      "WARNING:tensorflow:From C:\\ProgramData\\Anaconda3\\lib\\site-packages\\keras\\backend\\tensorflow_backend.py:3445: calling dropout (from tensorflow.python.ops.nn_ops) with keep_prob is deprecated and will be removed in a future version.\n",
      "Instructions for updating:\n",
      "Please use `rate` instead of `keep_prob`. Rate should be set to `rate = 1 - keep_prob`.\n",
      "_________________________________________________________________\n",
      "Layer (type)                 Output Shape              Param #   \n",
      "=================================================================\n",
      "embedding_1 (Embedding)      (None, 1881, 100)         2000100   \n",
      "_________________________________________________________________\n",
      "bidirectional_1 (Bidirection (None, 1881, 256)         235520    \n",
      "_________________________________________________________________\n",
      "dropout_1 (Dropout)          (None, 1881, 256)         0         \n",
      "_________________________________________________________________\n",
      "bidirectional_2 (Bidirection (None, 1881, 256)         395264    \n",
      "_________________________________________________________________\n",
      "dropout_2 (Dropout)          (None, 1881, 256)         0         \n",
      "_________________________________________________________________\n",
      "bidirectional_3 (Bidirection (None, 1881, 256)         395264    \n",
      "_________________________________________________________________\n",
      "dropout_3 (Dropout)          (None, 1881, 256)         0         \n",
      "_________________________________________________________________\n",
      "bidirectional_4 (Bidirection (None, 1881, 256)         395264    \n",
      "_________________________________________________________________\n",
      "dropout_4 (Dropout)          (None, 1881, 256)         0         \n",
      "_________________________________________________________________\n",
      "conv1d_1 (Conv1D)            (None, 1866, 128)         524416    \n",
      "_________________________________________________________________\n",
      "max_pooling1d_1 (MaxPooling1 (None, 74, 128)           0         \n",
      "_________________________________________________________________\n",
      "flatten_1 (Flatten)          (None, 9472)              0         \n",
      "_________________________________________________________________\n",
      "dense_1 (Dense)              (None, 4)                 37892     \n",
      "=================================================================\n",
      "Total params: 3,983,720\n",
      "Trainable params: 3,983,720\n",
      "Non-trainable params: 0\n",
      "_________________________________________________________________\n",
      "None\n"
     ]
    }
   ],
   "source": [
    "model = Sequential()\n",
    "model.add(Embedding(num_words,\n",
    "                    embedding_dim,\n",
    "                    embeddings_initializer=Constant(embedding_matrix),\n",
    "                    input_length=sequence_length,\n",
    "                    trainable=True))\n",
    "model.add(Bidirectional(CuDNNLSTM(128, return_sequences=True)))\n",
    "model.add(Dropout(0.2))\n",
    "model.add(Bidirectional(CuDNNLSTM(128, return_sequences=True)))\n",
    "model.add(Dropout(0.2))\n",
    "model.add(Bidirectional(CuDNNLSTM(128, return_sequences=True)))\n",
    "model.add(Dropout(0.2))\n",
    "model.add(Bidirectional(CuDNNLSTM(128, return_sequences=True)))\n",
    "model.add(Dropout(0.2))\n",
    "model.add(Conv1D(128, 16, activation='relu'))\n",
    "model.add(MaxPooling1D(25))\n",
    "model.add(Flatten())\n",
    "model.add(Dense(units=4, activation='softmax'))\n",
    "sgd= optimizers.SGD(lr=0.001, decay=1e-6, momentum=0.9, nesterov=True)\n",
    "model.compile(loss = 'categorical_crossentropy', optimizer=sgd, metrics = ['accuracy'])\n",
    "print(model.summary())"
   ]
  },
  {
   "cell_type": "code",
   "execution_count": 22,
   "metadata": {},
   "outputs": [
    {
     "name": "stdout",
     "output_type": "stream",
     "text": [
      "WARNING:tensorflow:From C:\\ProgramData\\Anaconda3\\lib\\site-packages\\tensorflow\\python\\ops\\math_ops.py:3066: to_int32 (from tensorflow.python.ops.math_ops) is deprecated and will be removed in a future version.\n",
      "Instructions for updating:\n",
      "Use tf.cast instead.\n",
      "Train on 6938 samples, validate on 1735 samples\n",
      "Epoch 1/100\n",
      "6938/6938 [==============================] - 112s 16ms/step - loss: 3.3238 - acc: 0.2619 - val_loss: 3.3504 - val_acc: 0.2156\n",
      "Epoch 2/100\n",
      "6938/6938 [==============================] - 109s 16ms/step - loss: 3.3137 - acc: 0.2577 - val_loss: 3.3593 - val_acc: 0.2277\n",
      "Epoch 3/100\n",
      "6938/6938 [==============================] - 109s 16ms/step - loss: 3.3115 - acc: 0.2571 - val_loss: 3.3630 - val_acc: 0.2438\n",
      "Epoch 4/100\n",
      "6938/6938 [==============================] - 109s 16ms/step - loss: 3.3065 - acc: 0.2638 - val_loss: 3.3438 - val_acc: 0.4213\n",
      "Epoch 5/100\n",
      "6938/6938 [==============================] - 110s 16ms/step - loss: 3.3029 - acc: 0.2499 - val_loss: 3.3279 - val_acc: 0.4548\n",
      "Epoch 6/100\n",
      "6938/6938 [==============================] - 110s 16ms/step - loss: 3.2999 - acc: 0.2580 - val_loss: 3.3519 - val_acc: 0.2386\n",
      "Epoch 7/100\n",
      "6938/6938 [==============================] - 110s 16ms/step - loss: 3.2927 - acc: 0.2655 - val_loss: 3.3314 - val_acc: 0.2369\n",
      "Epoch 8/100\n",
      "6938/6938 [==============================] - 110s 16ms/step - loss: 3.2885 - acc: 0.2646 - val_loss: 3.4060 - val_acc: 0.1700\n",
      "Epoch 9/100\n",
      "6938/6938 [==============================] - 110s 16ms/step - loss: 3.2849 - acc: 0.2713 - val_loss: 3.3330 - val_acc: 0.4144\n",
      "Epoch 10/100\n",
      "6938/6938 [==============================] - 110s 16ms/step - loss: 3.2822 - acc: 0.2606 - val_loss: 3.3178 - val_acc: 0.2963\n",
      "Epoch 11/100\n",
      "6938/6938 [==============================] - 110s 16ms/step - loss: 3.2786 - acc: 0.2692 - val_loss: 3.3207 - val_acc: 0.2646\n",
      "Epoch 12/100\n",
      "6938/6938 [==============================] - 110s 16ms/step - loss: 3.2743 - acc: 0.2789 - val_loss: 3.3084 - val_acc: 0.3827\n",
      "Epoch 13/100\n",
      "6938/6938 [==============================] - 110s 16ms/step - loss: 3.2714 - acc: 0.2900 - val_loss: 3.3152 - val_acc: 0.2640\n",
      "Epoch 14/100\n",
      "6938/6938 [==============================] - 110s 16ms/step - loss: 3.2662 - acc: 0.3015 - val_loss: 3.2943 - val_acc: 0.3251\n",
      "Epoch 15/100\n",
      "6938/6938 [==============================] - 110s 16ms/step - loss: 3.2671 - acc: 0.2986 - val_loss: 3.3073 - val_acc: 0.3545\n",
      "Epoch 16/100\n",
      "6938/6938 [==============================] - 110s 16ms/step - loss: 3.2630 - acc: 0.3002 - val_loss: 3.2978 - val_acc: 0.5222\n",
      "Epoch 17/100\n",
      "6938/6938 [==============================] - 110s 16ms/step - loss: 3.2585 - acc: 0.3305 - val_loss: 3.2952 - val_acc: 0.2651\n",
      "Epoch 18/100\n",
      "6938/6938 [==============================] - 110s 16ms/step - loss: 3.2539 - acc: 0.3194 - val_loss: 3.3754 - val_acc: 0.2432\n",
      "Epoch 19/100\n",
      "6938/6938 [==============================] - 110s 16ms/step - loss: 3.2527 - acc: 0.3220 - val_loss: 3.2852 - val_acc: 0.5107\n",
      "Epoch 20/100\n",
      "6938/6938 [==============================] - 110s 16ms/step - loss: 3.2540 - acc: 0.3422 - val_loss: 3.2851 - val_acc: 0.2876\n",
      "Epoch 21/100\n",
      "6938/6938 [==============================] - 110s 16ms/step - loss: 3.2454 - acc: 0.3452 - val_loss: 3.2777 - val_acc: 0.3262\n",
      "Epoch 22/100\n",
      "6938/6938 [==============================] - 110s 16ms/step - loss: 3.2448 - acc: 0.3419 - val_loss: 3.3529 - val_acc: 0.3556\n",
      "Epoch 23/100\n",
      "6938/6938 [==============================] - 110s 16ms/step - loss: 3.2455 - acc: 0.3491 - val_loss: 3.3146 - val_acc: 0.4202\n",
      "Epoch 24/100\n",
      "6938/6938 [==============================] - 110s 16ms/step - loss: 3.2373 - acc: 0.3564 - val_loss: 3.3146 - val_acc: 0.4075\n",
      "Epoch 25/100\n",
      "6938/6938 [==============================] - 110s 16ms/step - loss: 3.2418 - acc: 0.3489 - val_loss: 3.2992 - val_acc: 0.3752\n",
      "Epoch 26/100\n",
      "6938/6938 [==============================] - 110s 16ms/step - loss: 3.2325 - acc: 0.3649 - val_loss: 3.2927 - val_acc: 0.3066\n",
      "Epoch 27/100\n",
      "6938/6938 [==============================] - 110s 16ms/step - loss: 3.2322 - acc: 0.3505 - val_loss: 3.3609 - val_acc: 0.2657\n",
      "Epoch 28/100\n",
      "6938/6938 [==============================] - 110s 16ms/step - loss: 3.2303 - acc: 0.3573 - val_loss: 3.3205 - val_acc: 0.2213\n",
      "Epoch 29/100\n",
      "6938/6938 [==============================] - 110s 16ms/step - loss: 3.2237 - acc: 0.3599 - val_loss: 3.3101 - val_acc: 0.3435\n",
      "Epoch 30/100\n",
      "6938/6938 [==============================] - 110s 16ms/step - loss: 3.2285 - acc: 0.3635 - val_loss: 3.3134 - val_acc: 0.2963\n",
      "Epoch 31/100\n",
      "6938/6938 [==============================] - 110s 16ms/step - loss: 3.2226 - acc: 0.3727 - val_loss: 3.3076 - val_acc: 0.2980\n",
      "Epoch 32/100\n",
      "6938/6938 [==============================] - 110s 16ms/step - loss: 3.2193 - acc: 0.3736 - val_loss: 3.3320 - val_acc: 0.2219\n",
      "Epoch 33/100\n",
      "6938/6938 [==============================] - 110s 16ms/step - loss: 3.2172 - acc: 0.3811 - val_loss: 3.3038 - val_acc: 0.3049\n",
      "Epoch 34/100\n",
      "6938/6938 [==============================] - 110s 16ms/step - loss: 3.2127 - acc: 0.3730 - val_loss: 3.2717 - val_acc: 0.3458\n",
      "Epoch 35/100\n",
      "6938/6938 [==============================] - 110s 16ms/step - loss: 3.2150 - acc: 0.3809 - val_loss: 3.2663 - val_acc: 0.3095\n",
      "Epoch 36/100\n",
      "6938/6938 [==============================] - 110s 16ms/step - loss: 3.2223 - acc: 0.3821 - val_loss: 3.3609 - val_acc: 0.1746\n",
      "Epoch 37/100\n",
      "6938/6938 [==============================] - 110s 16ms/step - loss: 3.2085 - acc: 0.3726 - val_loss: 3.2683 - val_acc: 0.3695\n",
      "Epoch 38/100\n",
      "6938/6938 [==============================] - 110s 16ms/step - loss: 3.2031 - acc: 0.3896 - val_loss: 3.2891 - val_acc: 0.4605\n",
      "Epoch 39/100\n",
      "6938/6938 [==============================] - 110s 16ms/step - loss: 3.2019 - acc: 0.3949 - val_loss: 3.3160 - val_acc: 0.3504\n",
      "Epoch 40/100\n",
      "6938/6938 [==============================] - 110s 16ms/step - loss: 3.1987 - acc: 0.3925 - val_loss: 3.2767 - val_acc: 0.4363\n",
      "Epoch 41/100\n",
      "6938/6938 [==============================] - 110s 16ms/step - loss: 3.1965 - acc: 0.3869 - val_loss: 3.3059 - val_acc: 0.4029\n",
      "Epoch 42/100\n",
      "6938/6938 [==============================] - 110s 16ms/step - loss: 3.1929 - acc: 0.4066 - val_loss: 3.2799 - val_acc: 0.5354\n",
      "Epoch 43/100\n",
      "6938/6938 [==============================] - 110s 16ms/step - loss: 3.1932 - acc: 0.4092 - val_loss: 3.3071 - val_acc: 0.3043\n",
      "Epoch 44/100\n",
      "6938/6938 [==============================] - 111s 16ms/step - loss: 3.1866 - acc: 0.4013 - val_loss: 3.3684 - val_acc: 0.1919\n",
      "Epoch 45/100\n",
      "6938/6938 [==============================] - 111s 16ms/step - loss: 3.1880 - acc: 0.4050 - val_loss: 3.2825 - val_acc: 0.3983\n",
      "Epoch 46/100\n",
      "6938/6938 [==============================] - 110s 16ms/step - loss: 3.1832 - acc: 0.4067 - val_loss: 3.2856 - val_acc: 0.4334\n",
      "Epoch 47/100\n",
      "6938/6938 [==============================] - 110s 16ms/step - loss: 3.1781 - acc: 0.4079 - val_loss: 3.3323 - val_acc: 0.2611\n",
      "Epoch 48/100\n",
      "6938/6938 [==============================] - 110s 16ms/step - loss: 3.1783 - acc: 0.4073 - val_loss: 3.2916 - val_acc: 0.3643\n",
      "Epoch 49/100\n",
      "6938/6938 [==============================] - 110s 16ms/step - loss: 3.1726 - acc: 0.4158 - val_loss: 3.2912 - val_acc: 0.2340\n",
      "Epoch 50/100\n",
      "6938/6938 [==============================] - 110s 16ms/step - loss: 3.1729 - acc: 0.4082 - val_loss: 3.3190 - val_acc: 0.3003\n",
      "Epoch 51/100\n",
      "6938/6938 [==============================] - 110s 16ms/step - loss: 3.1731 - acc: 0.4076 - val_loss: 3.2981 - val_acc: 0.3643\n",
      "Epoch 52/100\n",
      "6938/6938 [==============================] - 110s 16ms/step - loss: 3.1661 - acc: 0.4217 - val_loss: 3.3209 - val_acc: 0.3695\n",
      "Epoch 53/100\n",
      "6938/6938 [==============================] - 110s 16ms/step - loss: 3.1630 - acc: 0.4174 - val_loss: 3.2846 - val_acc: 0.4490\n",
      "Epoch 54/100\n",
      "6938/6938 [==============================] - 110s 16ms/step - loss: 3.1592 - acc: 0.4246 - val_loss: 3.3148 - val_acc: 0.4576\n",
      "Epoch 55/100\n",
      "6938/6938 [==============================] - 111s 16ms/step - loss: 3.1577 - acc: 0.4321 - val_loss: 3.3297 - val_acc: 0.3251\n",
      "Epoch 56/100\n",
      "6938/6938 [==============================] - 111s 16ms/step - loss: 3.1486 - acc: 0.4359 - val_loss: 3.2953 - val_acc: 0.3556\n",
      "Epoch 57/100\n",
      "6938/6938 [==============================] - 112s 16ms/step - loss: 3.1493 - acc: 0.4307 - val_loss: 3.3090 - val_acc: 0.2369\n"
     ]
    },
    {
     "name": "stdout",
     "output_type": "stream",
     "text": [
      "Epoch 58/100\n",
      "6938/6938 [==============================] - 112s 16ms/step - loss: 3.1461 - acc: 0.4275 - val_loss: 3.3378 - val_acc: 0.2767\n",
      "Epoch 59/100\n",
      "6938/6938 [==============================] - 111s 16ms/step - loss: 3.1431 - acc: 0.4346 - val_loss: 3.3151 - val_acc: 0.3274\n",
      "Epoch 60/100\n",
      "6938/6938 [==============================] - 111s 16ms/step - loss: 3.1372 - acc: 0.4385 - val_loss: 3.3169 - val_acc: 0.3470\n",
      "Epoch 61/100\n",
      "6938/6938 [==============================] - 111s 16ms/step - loss: 3.1353 - acc: 0.4295 - val_loss: 3.3109 - val_acc: 0.3591\n",
      "Epoch 62/100\n",
      "6938/6938 [==============================] - 112s 16ms/step - loss: 3.1302 - acc: 0.4363 - val_loss: 3.3128 - val_acc: 0.4023\n",
      "Epoch 63/100\n",
      "6938/6938 [==============================] - 112s 16ms/step - loss: 3.1250 - acc: 0.4403 - val_loss: 3.3308 - val_acc: 0.4784\n",
      "Epoch 64/100\n",
      "6938/6938 [==============================] - 112s 16ms/step - loss: 3.1201 - acc: 0.4396 - val_loss: 3.3136 - val_acc: 0.4795\n",
      "Epoch 65/100\n",
      "6938/6938 [==============================] - 111s 16ms/step - loss: 3.1149 - acc: 0.4445 - val_loss: 3.3254 - val_acc: 0.3464\n",
      "Epoch 66/100\n",
      "6938/6938 [==============================] - 109s 16ms/step - loss: 3.1081 - acc: 0.4410 - val_loss: 3.3670 - val_acc: 0.2790\n",
      "Epoch 67/100\n",
      "6938/6938 [==============================] - 113s 16ms/step - loss: 3.1152 - acc: 0.4413 - val_loss: 3.3525 - val_acc: 0.3550\n",
      "Epoch 68/100\n",
      "6938/6938 [==============================] - 114s 16ms/step - loss: 3.1045 - acc: 0.4448 - val_loss: 3.3507 - val_acc: 0.3827\n",
      "Epoch 69/100\n",
      "6938/6938 [==============================] - 115s 17ms/step - loss: 3.0995 - acc: 0.4461 - val_loss: 3.3282 - val_acc: 0.3256\n",
      "Epoch 70/100\n",
      "6938/6938 [==============================] - 115s 17ms/step - loss: 3.0913 - acc: 0.4467 - val_loss: 3.3368 - val_acc: 0.3937\n",
      "Epoch 71/100\n",
      "6938/6938 [==============================] - 114s 16ms/step - loss: 3.0905 - acc: 0.4485 - val_loss: 3.3728 - val_acc: 0.5354\n",
      "Epoch 72/100\n",
      "6938/6938 [==============================] - 114s 16ms/step - loss: 3.0825 - acc: 0.4532 - val_loss: 3.3625 - val_acc: 0.3308\n",
      "Epoch 73/100\n",
      "6938/6938 [==============================] - 112s 16ms/step - loss: 3.0807 - acc: 0.4485 - val_loss: 3.3505 - val_acc: 0.3401\n",
      "Epoch 74/100\n",
      "6938/6938 [==============================] - 110s 16ms/step - loss: 3.0809 - acc: 0.4526 - val_loss: 3.3454 - val_acc: 0.3648\n",
      "Epoch 75/100\n",
      "6938/6938 [==============================] - 109s 16ms/step - loss: 3.0670 - acc: 0.4532 - val_loss: 3.3832 - val_acc: 0.3545\n",
      "Epoch 76/100\n",
      "6938/6938 [==============================] - 109s 16ms/step - loss: 3.0635 - acc: 0.4565 - val_loss: 3.3566 - val_acc: 0.3597\n",
      "Epoch 77/100\n",
      "6938/6938 [==============================] - 109s 16ms/step - loss: 3.0586 - acc: 0.4582 - val_loss: 3.3719 - val_acc: 0.3118\n",
      "Epoch 78/100\n",
      "6938/6938 [==============================] - 110s 16ms/step - loss: 3.0513 - acc: 0.4576 - val_loss: 3.3971 - val_acc: 0.2991\n",
      "Epoch 79/100\n",
      "6938/6938 [==============================] - 110s 16ms/step - loss: 3.0486 - acc: 0.4532 - val_loss: 3.3918 - val_acc: 0.3504\n",
      "Epoch 80/100\n",
      "6938/6938 [==============================] - 110s 16ms/step - loss: 3.0427 - acc: 0.4595 - val_loss: 3.3746 - val_acc: 0.3965\n",
      "Epoch 81/100\n",
      "6938/6938 [==============================] - 112s 16ms/step - loss: 3.0330 - acc: 0.4545 - val_loss: 3.4047 - val_acc: 0.4467\n",
      "Epoch 82/100\n",
      "6938/6938 [==============================] - 113s 16ms/step - loss: 3.0274 - acc: 0.4611 - val_loss: 3.4014 - val_acc: 0.3406\n",
      "Epoch 83/100\n",
      "6938/6938 [==============================] - 113s 16ms/step - loss: 3.0229 - acc: 0.4588 - val_loss: 3.3994 - val_acc: 0.4403\n",
      "Epoch 84/100\n",
      "6938/6938 [==============================] - 113s 16ms/step - loss: 3.0168 - acc: 0.4591 - val_loss: 3.4312 - val_acc: 0.4150\n",
      "Epoch 85/100\n",
      "6938/6938 [==============================] - 112s 16ms/step - loss: 3.0130 - acc: 0.4594 - val_loss: 3.4240 - val_acc: 0.3262\n",
      "Epoch 86/100\n",
      "6938/6938 [==============================] - 111s 16ms/step - loss: 3.0040 - acc: 0.4604 - val_loss: 3.4141 - val_acc: 0.4000\n",
      "Epoch 87/100\n",
      "6938/6938 [==============================] - 109s 16ms/step - loss: 2.9946 - acc: 0.4622 - val_loss: 3.4350 - val_acc: 0.3228\n",
      "Epoch 88/100\n",
      "6938/6938 [==============================] - 110s 16ms/step - loss: 2.9862 - acc: 0.4634 - val_loss: 3.4388 - val_acc: 0.3291\n",
      "Epoch 89/100\n",
      "6938/6938 [==============================] - 110s 16ms/step - loss: 2.9857 - acc: 0.4690 - val_loss: 3.5192 - val_acc: 0.2974\n",
      "Epoch 90/100\n",
      "6938/6938 [==============================] - 110s 16ms/step - loss: 2.9754 - acc: 0.4579 - val_loss: 3.4578 - val_acc: 0.3902\n",
      "Epoch 91/100\n",
      "6938/6938 [==============================] - 110s 16ms/step - loss: 2.9676 - acc: 0.4706 - val_loss: 3.4454 - val_acc: 0.3499\n",
      "Epoch 92/100\n",
      "6938/6938 [==============================] - 109s 16ms/step - loss: 2.9664 - acc: 0.4569 - val_loss: 3.4678 - val_acc: 0.4421\n",
      "Epoch 93/100\n",
      "6938/6938 [==============================] - 109s 16ms/step - loss: 2.9541 - acc: 0.4696 - val_loss: 3.5223 - val_acc: 0.2899\n",
      "Epoch 94/100\n",
      "6938/6938 [==============================] - 109s 16ms/step - loss: 2.9556 - acc: 0.4622 - val_loss: 3.4894 - val_acc: 0.4035\n",
      "Epoch 95/100\n",
      "6938/6938 [==============================] - 109s 16ms/step - loss: 2.9486 - acc: 0.4627 - val_loss: 3.5003 - val_acc: 0.4455\n",
      "Epoch 96/100\n",
      "6938/6938 [==============================] - 109s 16ms/step - loss: 2.9352 - acc: 0.4658 - val_loss: 3.4844 - val_acc: 0.3516\n",
      "Epoch 97/100\n",
      "6938/6938 [==============================] - 109s 16ms/step - loss: 2.9307 - acc: 0.4644 - val_loss: 3.5475 - val_acc: 0.3648\n",
      "Epoch 98/100\n",
      "6938/6938 [==============================] - 109s 16ms/step - loss: 2.9246 - acc: 0.4730 - val_loss: 3.5083 - val_acc: 0.2980\n",
      "Epoch 99/100\n",
      "6938/6938 [==============================] - 110s 16ms/step - loss: 2.9204 - acc: 0.4621 - val_loss: 3.6088 - val_acc: 0.3550\n",
      "Epoch 100/100\n",
      "6938/6938 [==============================] - 110s 16ms/step - loss: 2.9119 - acc: 0.4645 - val_loss: 3.5251 - val_acc: 0.3343\n"
     ]
    }
   ],
   "source": [
    "batch_size = 64\n",
    "history = model.fit(X_train, y_train, epochs=100, batch_size=batch_size, verbose=1, validation_split=0.2)"
   ]
  },
  {
   "cell_type": "code",
   "execution_count": 23,
   "metadata": {},
   "outputs": [
    {
     "data": {
      "text/plain": [
       "array([[    0,     0,     0, ...,   135,    15,     1],\n",
       "       [    0,     0,     0, ...,     2,    16,  9410],\n",
       "       [    0,     0,     0, ...,     3,  1207,     1],\n",
       "       ...,\n",
       "       [    0,     0,     0, ...,     1,   432,     1],\n",
       "       [    0,     0,     0, ...,    16,  1362,     1],\n",
       "       [    0,     0,     0, ...,    86,    15, 14568]])"
      ]
     },
     "execution_count": 23,
     "metadata": {},
     "output_type": "execute_result"
    }
   ],
   "source": [
    "X_train"
   ]
  },
  {
   "cell_type": "code",
   "execution_count": null,
   "metadata": {},
   "outputs": [],
   "source": []
  }
 ],
 "metadata": {
  "kernelspec": {
   "display_name": "Python 3",
   "language": "python",
   "name": "python3"
  },
  "language_info": {
   "codemirror_mode": {
    "name": "ipython",
    "version": 3
   },
   "file_extension": ".py",
   "mimetype": "text/x-python",
   "name": "python",
   "nbconvert_exporter": "python",
   "pygments_lexer": "ipython3",
   "version": "3.7.3"
  }
 },
 "nbformat": 4,
 "nbformat_minor": 2
}
